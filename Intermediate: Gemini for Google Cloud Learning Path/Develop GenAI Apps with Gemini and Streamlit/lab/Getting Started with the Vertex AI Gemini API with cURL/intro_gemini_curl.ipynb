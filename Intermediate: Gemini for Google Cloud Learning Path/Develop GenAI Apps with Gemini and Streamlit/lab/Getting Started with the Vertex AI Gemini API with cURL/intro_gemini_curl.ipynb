{
 "cells": [
  {
   "cell_type": "code",
   "execution_count": null,
   "metadata": {
    "id": "ijGzTHJJUCPY"
   },
   "outputs": [],
   "source": [
    "# Copyright 2024 Google LLC\n",
    "#\n",
    "# Licensed under the Apache License, Version 2.0 (the \"License\");\n",
    "# you may not use this file except in compliance with the License.\n",
    "# You may obtain a copy of the License at\n",
    "#\n",
    "#     https://www.apache.org/licenses/LICENSE-2.0\n",
    "#\n",
    "# Unless required by applicable law or agreed to in writing, software\n",
    "# distributed under the License is distributed on an \"AS IS\" BASIS,\n",
    "# WITHOUT WARRANTIES OR CONDITIONS OF ANY KIND, either express or implied.\n",
    "# See the License for the specific language governing permissions and\n",
    "# limitations under the License."
   ]
  },
  {
   "cell_type": "markdown",
   "metadata": {
    "id": "ZPC2X_a9ErW7"
   },
   "source": [
    "# Getting Started with the Vertex AI Gemini API with cURL\n",
    "\n",
    "<table align=\"left\">\n",
    "  <td style=\"text-align: center\">\n",
    "    <a href=\"https://colab.research.google.com/github/GoogleCloudPlatform/generative-ai/blob/main/gemini/getting-started/intro_gemini_curl.ipynb\">\n",
    "      <img src=\"https://cloud.google.com/ml-engine/images/colab-logo-32px.png\" alt=\"Google Colaboratory logo\"><br> Run in Colab\n",
    "    </a>\n",
    "  </td>\n",
    "  <td style=\"text-align: center\">\n",
    "    <a href=\"https://console.cloud.google.com/vertex-ai/colab/import/https:%2F%2Fraw.githubusercontent.com%2FGoogleCloudPlatform%2Fgenerative-ai%2Fmain%2Fgemini%2Fgetting-started%2Fintro_gemini_curl.ipynb\">\n",
    "      <img width=\"32px\" src=\"https://lh3.googleusercontent.com/JmcxdQi-qOpctIvWKgPtrzZdJJK-J3sWE1RsfjZNwshCFgE_9fULcNpuXYTilIR2hjwN\" alt=\"Google Cloud Colab Enterprise logo\"><br> Run in Colab Enterprise\n",
    "    </a>\n",
    "  </td>       \n",
    "  <td style=\"text-align: center\">\n",
    "    <a href=\"https://github.com/GoogleCloudPlatform/generative-ai/blob/main/gemini/getting-started/intro_gemini_curl.ipynb\">\n",
    "      <img src=\"https://cloud.google.com/ml-engine/images/github-logo-32px.png\" alt=\"GitHub logo\"><br> View on GitHub\n",
    "    </a>\n",
    "  </td>\n",
    "  <td style=\"text-align: center\">\n",
    "    <a href=\"https://console.cloud.google.com/vertex-ai/workbench/deploy-notebook?download_url=https://raw.githubusercontent.com/GoogleCloudPlatform/generative-ai/main/gemini/getting-started/intro_gemini_curl.ipynb\">\n",
    "      <img src=\"https://lh3.googleusercontent.com/UiNooY4LUgW_oTvpsNhPpQzsstV5W8F7rYgxgGBD85cWJoLmrOzhVs_ksK_vgx40SHs7jCqkTkCk=e14-rj-sc0xffffff-h130-w32\" alt=\"Vertex AI logo\"><br> Open in Vertex AI Workbench\n",
    "    </a>\n",
    "  </td>\n",
    "</table>\n"
   ]
  },
  {
   "cell_type": "markdown",
   "metadata": {
    "id": "f0cc0f48513b"
   },
   "source": [
    "| | |\n",
    "|-|-|\n",
    "|Author(s) | [Eric Dong](https://github.com/gericdong), [Polong Lin](https://github.com/polong-lin) |"
   ]
  },
  {
   "cell_type": "markdown",
   "metadata": {
    "id": "axauUzNXEl_R"
   },
   "source": [
    "## Overview\n",
    "\n",
    "### Gemini\n",
    "Gemini is a family of generative AI models developed by Google DeepMind. Gemini models support prompts that include text, image, and video as input and support text responses as output.\n",
    "\n",
    "### Vertex AI Gemini API\n",
    "\n",
    "The Vertex AI Gemini API provides a unified interface for interacting with Gemini models. You can interact with the Gemini API by using the following methods:\n",
    "\n",
    "* Use [Vertex AI Studio](https://cloud.google.com/generative-ai-studio) for quick testing and command generation.\n",
    "* Use cURL commands in Cloud Shell.\n",
    "* Use the Vertex AI SDK for Python in a Jupyter notebook\n",
    "\n",
    "This notebook focuses on using the **cURL commands** to call the Vertex AI Gemini API.\n",
    "\n",
    "For more information, see the [Generative AI on Vertex AI](https://cloud.google.com/vertex-ai/docs/generative-ai/learn/overview) documentation."
   ]
  },
  {
   "cell_type": "markdown",
   "metadata": {
    "id": "yyaOZAg_El_R"
   },
   "source": [
    "### Objectives\n",
    "\n",
    "In this tutorial, you learn how to use the Vertex AI Gemini API with cURL commands to interact with the Gemini 1.5 Pro (`gemini-1.5-pro`) model.\n",
    "\n",
    "You will complete the following tasks:\n",
    "\n",
    "- Install the Python SDK.\n",
    "- Use the Vertex AI Gemini API to interact with each model.\n",
    "  - Gemini 1.5 Pro (`gemini-1.5-pro`) model:\n",
    "    - Generate text from text prompts.\n",
    "    - Explore various features and configuration options.\n",
    "    - Generate text from image(s) and text prompts.\n",
    "    - Generate text from video.\n",
    "  "
   ]
  },
  {
   "cell_type": "markdown",
   "metadata": {
    "id": "wJf9sLIIEl_S"
   },
   "source": [
    "### Costs\n",
    "This tutorial uses billable components of Google Cloud:\n",
    "\n",
    "- Vertex AI\n",
    "\n",
    "Learn about [Vertex AI pricing](https://cloud.google.com/vertex-ai/pricing) and use the [Pricing Calculator](https://cloud.google.com/products/calculator/) to generate a cost estimate based on your projected usage."
   ]
  },
  {
   "cell_type": "markdown",
   "metadata": {
    "id": "D50ekWXjEl_S"
   },
   "source": [
    "## Getting Started"
   ]
  },
  {
   "cell_type": "markdown",
   "metadata": {
    "id": "dmWOrTJ3gx13"
   },
   "source": [
    "### Authenticate your notebook environment (Colab only)\n",
    "\n",
    "If you are running this notebook on Google Colab, run the following cell to authenticate your environment.\n",
    "\n",
    "This step is not required if you are using [Vertex AI Workbench](https://cloud.google.com/vertex-ai-workbench)."
   ]
  },
  {
   "cell_type": "code",
   "execution_count": null,
   "metadata": {
    "id": "NyKGtVQjgx13"
   },
   "outputs": [],
   "source": [
    "import sys\n",
    "\n",
    "# Additional authentication is required for Google Colab\n",
    "if \"google.colab\" in sys.modules:\n",
    "    # Authenticate user to Google Cloud\n",
    "    from google.colab import auth\n",
    "\n",
    "    auth.authenticate_user()"
   ]
  },
  {
   "cell_type": "markdown",
   "metadata": {
    "id": "O6ZGaZlxP9L0"
   },
   "source": [
    "### Set Google Cloud project\n",
    "\n",
    "To get started using Vertex AI, you must have an existing Google Cloud project and [enable the Vertex AI API](https://console.cloud.google.com/flows/enableapi?apiid=aiplatform.googleapis.com).\n",
    "\n",
    "Learn more about [setting up a project and a development environment](https://cloud.google.com/vertex-ai/docs/start/cloud-environment)."
   ]
  },
  {
   "cell_type": "code",
   "execution_count": 1,
   "metadata": {
    "id": "u8IivOG5SqY6",
    "tags": []
   },
   "outputs": [],
   "source": [
    "PROJECT_ID = \"qwiklabs-gcp-01-437c145359aa\" #\"[your-project_id]\"  # @param {type:\"string\"}\n",
    "LOCATION = \"us-west1\"  # @param {type:\"string\"}"
   ]
  },
  {
   "cell_type": "markdown",
   "metadata": {
    "id": "8s84m7h6HSTR"
   },
   "source": [
    "### Defining environment variables for cURL commands\n",
    "\n",
    "These environment variables are used to construct the cURL commands."
   ]
  },
  {
   "cell_type": "code",
   "execution_count": 2,
   "metadata": {
    "id": "krJ8UOHKoPn3",
    "tags": []
   },
   "outputs": [],
   "source": [
    "import os\n",
    "\n",
    "os.environ[\"PROJECT_ID\"] = PROJECT_ID\n",
    "os.environ[\"LOCATION\"] = LOCATION\n",
    "os.environ[\"API_ENDPOINT\"] = f\"{LOCATION}-aiplatform.googleapis.com\""
   ]
  },
  {
   "cell_type": "markdown",
   "metadata": {
    "id": "854fbf388e2b"
   },
   "source": [
    "## Use the Gemini 1.5 Pro model"
   ]
  },
  {
   "cell_type": "code",
   "execution_count": 3,
   "metadata": {
    "id": "7eeb063ac6d4",
    "tags": []
   },
   "outputs": [],
   "source": [
    "os.environ[\"MODEL_ID\"] = \"gemini-1.5-pro\""
   ]
  },
  {
   "cell_type": "markdown",
   "metadata": {
    "id": "0ZZUVBSzc0cR"
   },
   "source": [
    "### Generate content\n",
    "\n",
    "The generateContent method can handle a wide variety of use cases, including multi-turn chat and multimodal input, depending on what the underlying model supports. In this example, you send a text prompt using the `generateContent` method."
   ]
  },
  {
   "cell_type": "code",
   "execution_count": 4,
   "metadata": {
    "id": "1979afec8834",
    "tags": []
   },
   "outputs": [
    {
     "name": "stderr",
     "output_type": "stream",
     "text": [
      "  % Total    % Received % Xferd  Average Speed   Time    Time     Time  Current\n",
      "                                 Dload  Upload   Total   Spent    Left  Speed\n",
      "100  3055    0  2954  100   101    503     17  0:00:05  0:00:05 --:--:--   807\n"
     ]
    },
    {
     "name": "stdout",
     "output_type": "stream",
     "text": [
      "{\n",
      "  \"candidates\": [\n",
      "    {\n",
      "      \"content\": {\n",
      "        \"role\": \"model\",\n",
      "        \"parts\": [\n",
      "          {\n",
      "            \"text\": \"The sky appears blue due to a phenomenon called **Rayleigh scattering**. Here's a breakdown:\\n\\n1. **Sunlight Enters the Atmosphere:** Sunlight, which appears white, is actually a mixture of all the colors of the rainbow. \\n\\n2. **Shorter Wavelengths Scatter More:** As sunlight enters the Earth's atmosphere, it collides with tiny air molecules (mostly nitrogen and oxygen).  These molecules scatter the sunlight in all directions. However, shorter wavelengths of light, such as blue and violet, are scattered more effectively than longer wavelengths, like red and orange.\\n\\n3. **Our Eyes Perceive Blue:**  The scattered blue and violet light reaches our eyes from all directions in the sky, making it appear blue.  Although violet light is scattered even more strongly than blue, our eyes are less sensitive to violet light, and we perceive the sky as predominantly blue.\\n\\n**Why the sky isn't violet:**\\n\\n* **Atmosphere's Composition:**  The atmosphere preferentially absorbs some violet light.\\n* **Human Vision:** Our eyes are more sensitive to blue light than violet light.\\n\\n**Why sunsets are red:**\\n\\nAt sunset, the sunlight has to travel through more of the atmosphere to reach our eyes. By this time, most of the blue light has been scattered away, leaving the longer wavelengths of light, like red and orange, to be seen. \\n\"\n",
      "          }\n",
      "        ]\n",
      "      },\n",
      "      \"finishReason\": \"STOP\",\n",
      "      \"safetyRatings\": [\n",
      "        {\n",
      "          \"category\": \"HARM_CATEGORY_HATE_SPEECH\",\n",
      "          \"probability\": \"NEGLIGIBLE\",\n",
      "          \"probabilityScore\": 0.080566406,\n",
      "          \"severity\": \"HARM_SEVERITY_NEGLIGIBLE\",\n",
      "          \"severityScore\": 0.049560547\n",
      "        },\n",
      "        {\n",
      "          \"category\": \"HARM_CATEGORY_DANGEROUS_CONTENT\",\n",
      "          \"probability\": \"NEGLIGIBLE\",\n",
      "          \"probabilityScore\": 0.07470703,\n",
      "          \"severity\": \"HARM_SEVERITY_NEGLIGIBLE\",\n",
      "          \"severityScore\": 0.061035156\n",
      "        },\n",
      "        {\n",
      "          \"category\": \"HARM_CATEGORY_HARASSMENT\",\n",
      "          \"probability\": \"NEGLIGIBLE\",\n",
      "          \"probabilityScore\": 0.13476563,\n",
      "          \"severity\": \"HARM_SEVERITY_NEGLIGIBLE\",\n",
      "          \"severityScore\": 0.031982422\n",
      "        },\n",
      "        {\n",
      "          \"category\": \"HARM_CATEGORY_SEXUALLY_EXPLICIT\",\n",
      "          \"probability\": \"NEGLIGIBLE\",\n",
      "          \"probabilityScore\": 0.12402344,\n",
      "          \"severity\": \"HARM_SEVERITY_NEGLIGIBLE\",\n",
      "          \"severityScore\": 0.024047852\n",
      "        }\n",
      "      ],\n",
      "      \"citationMetadata\": {\n",
      "        \"citations\": [\n",
      "          {\n",
      "            \"startIndex\": 401,\n",
      "            \"endIndex\": 553,\n",
      "            \"uri\": \"https://brainly.com/question/44569692\"\n",
      "          }\n",
      "        ]\n",
      "      },\n",
      "      \"avgLogprobs\": -0.21819002131270016\n",
      "    }\n",
      "  ],\n",
      "  \"usageMetadata\": {\n",
      "    \"promptTokenCount\": 6,\n",
      "    \"candidatesTokenCount\": 283,\n",
      "    \"totalTokenCount\": 289\n",
      "  },\n",
      "  \"modelVersion\": \"gemini-1.5-pro\"\n",
      "}\n"
     ]
    }
   ],
   "source": [
    "%%bash\n",
    "\n",
    "curl -X POST \\\n",
    "  -H \"Authorization: Bearer $(gcloud auth print-access-token)\" \\\n",
    "  -H \"Content-Type: application/json\" \\\n",
    "  https://${API_ENDPOINT}/v1/projects/${PROJECT_ID}/locations/${LOCATION}/publishers/google/models/${MODEL_ID}:generateContent \\\n",
    "  -d '{\n",
    "    \"contents\": {\n",
    "      \"role\": \"USER\",\n",
    "      \"parts\": { \"text\": \"Why is the sky blue?\" }\n",
    "    }\n",
    "  }'\n"
   ]
  },
  {
   "cell_type": "markdown",
   "metadata": {
    "id": "27701e417da6"
   },
   "source": [
    "### Streaming\n",
    "\n",
    "The Gemini API provides a streaming response mechanism. With this approach, you don't need to wait for the complete response; you can start processing fragments as soon as they're accessible."
   ]
  },
  {
   "cell_type": "code",
   "execution_count": 5,
   "metadata": {
    "id": "rzkCij_iS0we",
    "tags": []
   },
   "outputs": [
    {
     "name": "stderr",
     "output_type": "stream",
     "text": [
      "  % Total    % Received % Xferd  Average Speed   Time    Time     Time  Current\n",
      "                                 Dload  Upload   Total   Spent    Left  Speed\n"
     ]
    },
    {
     "name": "stdout",
     "output_type": "stream",
     "text": [
      "[{\n",
      "  \"candidates\": [\n",
      "    {\n",
      "      \"content\": {\n",
      "        \"role\": \"model\",\n",
      "        \"parts\": [\n",
      "          {\n",
      "            \"text\": \"The\"\n",
      "          }\n",
      "        ]\n",
      "      }\n",
      "    }\n",
      "  ],\n",
      "  \"modelVersion\": \"gemini-1.5-pro\"\n",
      "}\n",
      ",\n",
      "{\n",
      "  \"candidates\": [\n",
      "    {\n",
      "      \"content\": {\n",
      "        \"role\": \"model\",\n",
      "        \"parts\": [\n",
      "          {\n",
      "            \"text\": \" sky appears blue due to a phenomenon called **Rayleigh scattering**. Here's\"\n",
      "          }\n",
      "        ]\n",
      "      },\n",
      "      \"safetyRatings\": [\n",
      "        {\n",
      "          \"category\": \"HARM_CATEGORY_HATE_SPEECH\",\n",
      "          \"probability\": \"NEGLIGIBLE\",\n",
      "          \"probabilityScore\": 0.08886719,\n",
      "          \"severity\": \"HARM_SEVERITY_NEGLIGIBLE\",\n",
      "          \"severityScore\": 0.026000977\n",
      "        },\n",
      "        {\n",
      "          \"category\": \"HARM_CATEGORY_DANGEROUS_CONTENT\",\n",
      "          \"probability\": \"NEGLIGIBLE\",\n",
      "          \"probabilityScore\": 0.23925781,\n",
      "          \"severity\": \"HARM_SEVERITY_NEGLIGIBLE\",\n",
      "          \"severityScore\": 0.103515625\n",
      "        },\n",
      "        {\n",
      "          \"category\": \"HARM_CATEGORY_HARASSMENT\",\n",
      "          \"probability\": \"NEGLIGIBLE\",\n",
      "          \"probabilityScore\": 0.14355469,\n",
      "          \"severity\": \"HARM_SEVERITY_NEGLIGIBLE\",\n",
      "          \"severityScore\": 0.027954102\n",
      "        },\n",
      "        {\n",
      "          \"category\": \"HARM_CATEGORY_SEXUALLY_EXPLICIT\",\n",
      "          \"probability\": \"NEGLIGIBLE\",\n",
      "          \"probabilityScore\": 0.078125,\n",
      "          \"severity\": \"HARM_SEVERITY_NEGLIGIBLE\",\n",
      "          \"severityScore\": 0.02758789\n",
      "        }\n",
      "      ]\n",
      "    }\n",
      "  ],\n",
      "  \"modelVersion\": \"gemini-1.5-pro\"\n",
      "}\n",
      ",\n",
      "{\n",
      "  \"candidates\": [\n",
      "    {\n",
      "      \"content\": {\n",
      "        \"role\": \"model\",\n",
      "        \"parts\": [\n",
      "          {\n",
      "            \"text\": \" a breakdown:\\n\\n1. **Sunlight Enters the Atmosphere:** Sunlight is made\"\n",
      "          }\n",
      "        ]\n",
      "      },\n",
      "      \"safetyRatings\": [\n",
      "        {\n",
      "          \"category\": \"HARM_CATEGORY_HATE_SPEECH\",\n",
      "          \"probability\": \"NEGLIGIBLE\",\n",
      "          \"probabilityScore\": 0.05102539,\n",
      "          \"severity\": \"HARM_SEVERITY_NEGLIGIBLE\",\n",
      "          \"severityScore\": 0.030273438\n",
      "        },\n",
      "        {\n",
      "          \"category\": \"HARM_CATEGORY_DANGEROUS_CONTENT\",\n",
      "          \"probability\": \"NEGLIGIBLE\",\n",
      "          \"probabilityScore\": 0.15039063,\n",
      "          \"severity\": \"HARM_SEVERITY_NEGLIGIBLE\",\n",
      "          \"severityScore\": 0.08886719\n",
      "        },\n",
      "        {\n",
      "          \"category\": \"HARM_CATEGORY_HARASSMENT\",\n",
      "          \"probability\": \"NEGLIGIBLE\",\n",
      "          \"probabilityScore\": 0.13378906,\n",
      "          \"severity\": \"HARM_SEVERITY_NEGLIGIBLE\",\n",
      "          \"severityScore\": 0.024047852\n",
      "        },\n",
      "        {\n",
      "          \"category\": \"HARM_CATEGORY_SEXUALLY_EXPLICIT\",\n",
      "          \"probability\": \"NEGLIGIBLE\",\n",
      "          \"probabilityScore\": 0.08642578,\n",
      "          \"severity\": \"HARM_SEVERITY_NEGLIGIBLE\",\n",
      "          \"severityScore\": 0.04345703\n",
      "        }\n",
      "      ]\n",
      "    }\n",
      "  ],\n",
      "  \"modelVersion\": \"gemini-1.5-pro\"\n",
      "}\n",
      ",\n",
      "{\n",
      "  \"candidates\": [\n",
      "    {\n",
      "      \"content\": {\n",
      "        \"role\": \"model\",\n",
      "        \"parts\": [\n",
      "          {\n",
      "            \"text\": \" up of all the colors of the rainbow. When this light enters Earth's atmosphere, it collides with tiny air molecules (mostly nitrogen and oxygen).\\n\\n\"\n",
      "          }\n",
      "        ]\n",
      "      },\n",
      "      \"safetyRatings\": [\n",
      "        {\n",
      "          \"category\": \"HARM_CATEGORY_HATE_SPEECH\",\n",
      "          \"probability\": \"NEGLIGIBLE\",\n",
      "          \"probabilityScore\": 0.043945313,\n",
      "          \"severity\": \"HARM_SEVERITY_NEGLIGIBLE\",\n",
      "          \"severityScore\": 0.026733398\n",
      "        },\n",
      "        {\n",
      "          \"category\": \"HARM_CATEGORY_DANGEROUS_CONTENT\",\n",
      "          \"probability\": \"NEGLIGIBLE\",\n",
      "          \"probabilityScore\": 0.17871094,\n",
      "          \"severity\": \"HARM_SEVERITY_NEGLIGIBLE\",\n",
      "          \"severityScore\": 0.080566406\n",
      "        },\n",
      "        {\n",
      "          \"category\": \"HARM_CATEGORY_HARASSMENT\",\n",
      "          \"probability\": \"NEGLIGIBLE\",\n",
      "          \"probabilityScore\": 0.12988281,\n",
      "          \"severity\": \"HARM_SEVERITY_NEGLIGIBLE\",\n",
      "          \"severityScore\": 0.018554688\n",
      "        },\n",
      "        {\n",
      "          \"category\": \"HARM_CATEGORY_SEXUALLY_EXPLICIT\",\n",
      "          \"probability\": \"NEGLIGIBLE\",\n",
      "          \"probabilityScore\": 0.099609375,\n",
      "          \"severity\": \"HARM_SEVERITY_NEGLIGIBLE\",\n",
      "          \"severityScore\": 0.034179688\n",
      "        }\n",
      "      ]\n",
      "    }\n",
      "  ],\n",
      "  \"modelVersion\": \"gemini-1.5-pro\"\n",
      "}\n",
      ",\n",
      "{\n",
      "  \"candidates\": [\n",
      "    {\n",
      "      \"content\": {\n",
      "        \"role\": \"model\",\n",
      "        \"parts\": [\n",
      "          {\n",
      "            \"text\": \"2. **Scattering of Light:** This collision causes the sunlight to scatter in different directions.  Importantly, blue and violet light have shorter wavelengths and are\"\n",
      "          }\n",
      "        ]\n",
      "      },\n",
      "      \"safetyRatings\": [\n",
      "        {\n",
      "          \"category\": \"HARM_CATEGORY_HATE_SPEECH\",\n",
      "          \"probability\": \"NEGLIGIBLE\",\n",
      "          \"probabilityScore\": 0.061035156,\n",
      "          \"severity\": \"HARM_SEVERITY_NEGLIGIBLE\",\n",
      "          \"severityScore\": 0.025146484\n",
      "        },\n",
      "        {\n",
      "          \"category\": \"HARM_CATEGORY_DANGEROUS_CONTENT\",\n",
      "          \"probability\": \"NEGLIGIBLE\",\n",
      "          \"probabilityScore\": 0.19824219,\n",
      "          \"severity\": \"HARM_SEVERITY_NEGLIGIBLE\",\n",
      "          \"severityScore\": 0.091308594\n",
      "        },\n",
      "        {\n",
      "          \"category\": \"HARM_CATEGORY_HARASSMENT\",\n",
      "          \"probability\": \"NEGLIGIBLE\",\n",
      "          \"probabilityScore\": 0.12988281,\n",
      "          \"severity\": \"HARM_SEVERITY_NEGLIGIBLE\",\n",
      "          \"severityScore\": 0.020629883\n",
      "        },\n",
      "        {\n",
      "          \"category\": \"HARM_CATEGORY_SEXUALLY_EXPLICIT\",\n",
      "          \"probability\": \"NEGLIGIBLE\",\n",
      "          \"probabilityScore\": 0.119140625,\n",
      "          \"severity\": \"HARM_SEVERITY_NEGLIGIBLE\",\n",
      "          \"severityScore\": 0.030273438\n",
      "        }\n",
      "      ]\n",
      "    }\n",
      "  ],\n",
      "  \"modelVersion\": \"gemini-1.5-pro\"\n",
      "}\n",
      ",\n",
      "{\n",
      "  \"candidates\": [\n",
      "    {\n",
      "      \"content\": {\n",
      "        \"role\": \"model\",\n",
      "        \"parts\": [\n",
      "          {\n",
      "            \"text\": \" scattered much more strongly than other colors like red and orange, which have longer wavelengths.\\n\\n3. **Our Eyes' Perception:** Our eyes are more sensitive to blue light than violet light.  Therefore, even though violet light is scattered even\"\n",
      "          }\n",
      "        ]\n",
      "      },\n",
      "      \"safetyRatings\": [\n",
      "        {\n",
      "          \"category\": \"HARM_CATEGORY_HATE_SPEECH\",\n",
      "          \"probability\": \"NEGLIGIBLE\",\n",
      "          \"probabilityScore\": 0.07910156,\n",
      "          \"severity\": \"HARM_SEVERITY_NEGLIGIBLE\",\n",
      "          \"severityScore\": 0.03955078\n",
      "        },\n",
      "        {\n",
      "          \"category\": \"HARM_CATEGORY_DANGEROUS_CONTENT\",\n",
      "          \"probability\": \"NEGLIGIBLE\",\n",
      "          \"probabilityScore\": 0.10986328,\n",
      "          \"severity\": \"HARM_SEVERITY_NEGLIGIBLE\",\n",
      "          \"severityScore\": 0.05419922\n",
      "        },\n",
      "        {\n",
      "          \"category\": \"HARM_CATEGORY_HARASSMENT\",\n",
      "          \"probability\": \"NEGLIGIBLE\",\n",
      "          \"probabilityScore\": 0.15039063,\n",
      "          \"severity\": \"HARM_SEVERITY_NEGLIGIBLE\",\n",
      "          \"severityScore\": 0.024780273\n",
      "        },\n",
      "        {\n",
      "          \"category\": \"HARM_CATEGORY_SEXUALLY_EXPLICIT\",\n",
      "          \"probability\": \"NEGLIGIBLE\",\n",
      "          \"probabilityScore\": 0.15527344,\n",
      "          \"severity\": \"HARM_SEVERITY_NEGLIGIBLE\",\n",
      "          \"severityScore\": 0.02722168\n",
      "        }\n",
      "      ]\n",
      "    }\n",
      "  ],\n",
      "  \"modelVersion\": \"gemini-1.5-pro\"\n",
      "}\n",
      ",\n",
      "{\n",
      "  \"candidates\": [\n",
      "    {\n",
      "      \"content\": {\n",
      "        \"role\": \"model\",\n",
      "        \"parts\": [\n",
      "          {\n",
      "            \"text\": \" more than blue, we perceive the sky as blue because of the combined effect of scattering and our eye's sensitivity.\\n\\n**In summary:** The sky is blue because blue light is scattered more by the atmosphere than other colors, making it\"\n",
      "          }\n",
      "        ]\n",
      "      },\n",
      "      \"safetyRatings\": [\n",
      "        {\n",
      "          \"category\": \"HARM_CATEGORY_HATE_SPEECH\",\n",
      "          \"probability\": \"NEGLIGIBLE\",\n",
      "          \"probabilityScore\": 0.07714844,\n",
      "          \"severity\": \"HARM_SEVERITY_NEGLIGIBLE\",\n",
      "          \"severityScore\": 0.041503906\n",
      "        },\n",
      "        {\n",
      "          \"category\": \"HARM_CATEGORY_DANGEROUS_CONTENT\",\n",
      "          \"probability\": \"NEGLIGIBLE\",\n",
      "          \"probabilityScore\": 0.07373047,\n",
      "          \"severity\": \"HARM_SEVERITY_NEGLIGIBLE\",\n",
      "          \"severityScore\": 0.05102539\n",
      "        },\n",
      "        {\n",
      "          \"category\": \"HARM_CATEGORY_HARASSMENT\",\n",
      "          \"probability\": \"NEGLIGIBLE\",\n",
      "          \"probabilityScore\": 0.17871094,\n",
      "          \"severity\": \"HARM_SEVERITY_NEGLIGIBLE\",\n",
      "          \"severityScore\": 0.032470703\n",
      "        },\n",
      "        {\n"
     ]
    },
    {
     "name": "stderr",
     "output_type": "stream",
     "text": [
      "100 10154    0 10053  100   101   1009     10  0:00:10  0:00:09  0:00:01  2480\n"
     ]
    },
    {
     "name": "stdout",
     "output_type": "stream",
     "text": [
      "          \"category\": \"HARM_CATEGORY_SEXUALLY_EXPLICIT\",\n",
      "          \"probability\": \"NEGLIGIBLE\",\n",
      "          \"probabilityScore\": 0.13964844,\n",
      "          \"severity\": \"HARM_SEVERITY_NEGLIGIBLE\",\n",
      "          \"severityScore\": 0.031982422\n",
      "        }\n",
      "      ]\n",
      "    }\n",
      "  ],\n",
      "  \"modelVersion\": \"gemini-1.5-pro\"\n",
      "}\n",
      ",\n",
      "{\n",
      "  \"candidates\": [\n",
      "    {\n",
      "      \"content\": {\n",
      "        \"role\": \"model\",\n",
      "        \"parts\": [\n",
      "          {\n",
      "            \"text\": \" appear to come from all directions. \\n\"\n",
      "          }\n",
      "        ]\n",
      "      },\n",
      "      \"safetyRatings\": [\n",
      "        {\n",
      "          \"category\": \"HARM_CATEGORY_HATE_SPEECH\",\n",
      "          \"probability\": \"NEGLIGIBLE\",\n",
      "          \"probabilityScore\": 0.06738281,\n",
      "          \"severity\": \"HARM_SEVERITY_NEGLIGIBLE\",\n",
      "          \"severityScore\": 0.0390625\n",
      "        },\n",
      "        {\n",
      "          \"category\": \"HARM_CATEGORY_DANGEROUS_CONTENT\",\n",
      "          \"probability\": \"NEGLIGIBLE\",\n",
      "          \"probabilityScore\": 0.07470703,\n",
      "          \"severity\": \"HARM_SEVERITY_NEGLIGIBLE\",\n",
      "          \"severityScore\": 0.051757813\n",
      "        },\n",
      "        {\n",
      "          \"category\": \"HARM_CATEGORY_HARASSMENT\",\n",
      "          \"probability\": \"NEGLIGIBLE\",\n",
      "          \"probabilityScore\": 0.15136719,\n",
      "          \"severity\": \"HARM_SEVERITY_NEGLIGIBLE\",\n",
      "          \"severityScore\": 0.029785156\n",
      "        },\n",
      "        {\n",
      "          \"category\": \"HARM_CATEGORY_SEXUALLY_EXPLICIT\",\n",
      "          \"probability\": \"NEGLIGIBLE\",\n",
      "          \"probabilityScore\": 0.12988281,\n",
      "          \"severity\": \"HARM_SEVERITY_NEGLIGIBLE\",\n",
      "          \"severityScore\": 0.030639648\n",
      "        }\n",
      "      ]\n",
      "    }\n",
      "  ],\n",
      "  \"modelVersion\": \"gemini-1.5-pro\"\n",
      "}\n",
      ",\n",
      "{\n",
      "  \"candidates\": [\n",
      "    {\n",
      "      \"content\": {\n",
      "        \"role\": \"model\",\n",
      "        \"parts\": [\n",
      "          {\n",
      "            \"text\": \"\"\n",
      "          }\n",
      "        ]\n",
      "      },\n",
      "      \"finishReason\": \"STOP\"\n",
      "    }\n",
      "  ],\n",
      "  \"usageMetadata\": {\n",
      "    \"promptTokenCount\": 6,\n",
      "    \"candidatesTokenCount\": 202,\n",
      "    \"totalTokenCount\": 208\n",
      "  },\n",
      "  \"modelVersion\": \"gemini-1.5-pro\"\n",
      "}\n",
      "]"
     ]
    }
   ],
   "source": [
    "%%bash\n",
    "\n",
    "curl -X POST \\\n",
    "  -H \"Authorization: Bearer $(gcloud auth print-access-token)\" \\\n",
    "  -H \"Content-Type: application/json\" \\\n",
    "  https://${API_ENDPOINT}/v1/projects/${PROJECT_ID}/locations/${LOCATION}/publishers/google/models/${MODEL_ID}:streamGenerateContent \\\n",
    "  -d '{\n",
    "    \"contents\": {\n",
    "      \"role\": \"USER\",\n",
    "      \"parts\": { \"text\": \"Why is the sky blue?\" }\n",
    "    }\n",
    "  }'\n"
   ]
  },
  {
   "cell_type": "markdown",
   "metadata": {
    "id": "3e56BV7PH9t8"
   },
   "source": [
    "### Model parameters\n",
    "\n",
    "Every prompt you send to the model includes parameter values that control how the model generates a response. The model can generate different results for different parameter values. You can experiment with different model parameters to see how the results change. "
   ]
  },
  {
   "cell_type": "code",
   "execution_count": 6,
   "metadata": {
    "id": "Px8hSHhiH9t8",
    "tags": []
   },
   "outputs": [
    {
     "name": "stderr",
     "output_type": "stream",
     "text": [
      "  % Total    % Received % Xferd  Average Speed   Time    Time     Time  Current\n",
      "                                 Dload  Upload   Total   Spent    Left  Speed\n",
      "100   918    0   315  100   603   3351   6414 --:--:-- --:--:-- --:--:--  9765\n"
     ]
    },
    {
     "name": "stdout",
     "output_type": "stream",
     "text": [
      "{\n",
      "  \"error\": {\n",
      "    \"code\": 400,\n",
      "    \"message\": \"Service agents are being provisioned (https://cloud.google.com/vertex-ai/docs/general/access-control#service-agents). Service agents are needed to read the Cloud Storage file provided. So please try again in a few minutes.\",\n",
      "    \"status\": \"FAILED_PRECONDITION\"\n",
      "  }\n",
      "}\n"
     ]
    }
   ],
   "source": [
    "%%bash\n",
    "\n",
    "curl -X POST \\\n",
    "  -H \"Authorization: Bearer $(gcloud auth print-access-token)\" \\\n",
    "  -H \"Content-Type: application/json\" \\\n",
    "  https://${API_ENDPOINT}/v1/projects/${PROJECT_ID}/locations/${LOCATION}/publishers/google/models/${MODEL_ID}:generateContent \\\n",
    "  -d '{\n",
    "    \"contents\": {\n",
    "      \"role\": \"USER\",\n",
    "      \"parts\": [\n",
    "        {\"text\": \"Describe this image\"},\n",
    "        {\"file_data\": {\n",
    "          \"mime_type\": \"image/png\",\n",
    "          \"file_uri\": \"gs://cloud-samples-data/generative-ai/image/320px-Felis_catus-cat_on_snow.jpg\"\n",
    "        }}\n",
    "      ]\n",
    "    },\n",
    "    \"generation_config\": {\n",
    "      \"temperature\": 0.2,\n",
    "      \"top_p\": 0.1,\n",
    "      \"top_k\": 16,\n",
    "      \"max_output_tokens\": 2048,\n",
    "      \"candidate_count\": 1,\n",
    "      \"stop_sequences\": []\n",
    "    },\n",
    "    \"safety_settings\": {\n",
    "      \"category\": \"HARM_CATEGORY_SEXUALLY_EXPLICIT\",\n",
    "      \"threshold\": \"BLOCK_LOW_AND_ABOVE\"\n",
    "    }\n",
    "  }'\n"
   ]
  },
  {
   "cell_type": "markdown",
   "metadata": {
    "id": "I4-XhmPn_Pb-"
   },
   "source": [
    "### Chat\n",
    "\n",
    "The Gemini API supports natural multi-turn conversations and is ideal for text tasks that require back-and-forth interactions.\n",
    "\n",
    "Specify the `role` field only if the content represents a turn in a conversation. You can set `role` to one of the following values: `user`, `model`."
   ]
  },
  {
   "cell_type": "code",
   "execution_count": 7,
   "metadata": {
    "id": "YqSQSK-K-KVU",
    "tags": []
   },
   "outputs": [
    {
     "name": "stderr",
     "output_type": "stream",
     "text": [
      "  % Total    % Received % Xferd  Average Speed   Time    Time     Time  Current\n",
      "                                 Dload  Upload   Total   Spent    Left  Speed\n",
      "100  2302    0  1904  100   398    755    157  0:00:02  0:00:02 --:--:--   913\n"
     ]
    },
    {
     "name": "stdout",
     "output_type": "stream",
     "text": [
      "{\n",
      "  \"candidates\": [\n",
      "    {\n",
      "      \"content\": {\n",
      "        \"role\": \"model\",\n",
      "        \"parts\": [\n",
      "          {\n",
      "            \"text\": \"That depends entirely on you!  Do you have something in mind, or are you interested in exploring some possibilities together?  \\n\\nTo help me understand what you'd like to do, tell me:\\n\\n* **What brings you here today?** Are you looking for information, wanting to have a conversation, or something else entirely?\\n* **What are you interested in?**  This could be anything from current events to creative writing to learning a new skill. \\n\\nThe more you tell me, the better I can assist you. 😊 \\n\"\n",
      "          }\n",
      "        ]\n",
      "      },\n",
      "      \"finishReason\": \"STOP\",\n",
      "      \"safetyRatings\": [\n",
      "        {\n",
      "          \"category\": \"HARM_CATEGORY_HATE_SPEECH\",\n",
      "          \"probability\": \"NEGLIGIBLE\",\n",
      "          \"probabilityScore\": 0.025146484,\n",
      "          \"severity\": \"HARM_SEVERITY_NEGLIGIBLE\",\n",
      "          \"severityScore\": 0.012817383\n",
      "        },\n",
      "        {\n",
      "          \"category\": \"HARM_CATEGORY_DANGEROUS_CONTENT\",\n",
      "          \"probability\": \"NEGLIGIBLE\",\n",
      "          \"probabilityScore\": 0.053466797,\n",
      "          \"severity\": \"HARM_SEVERITY_NEGLIGIBLE\",\n",
      "          \"severityScore\": 0.064453125\n",
      "        },\n",
      "        {\n",
      "          \"category\": \"HARM_CATEGORY_HARASSMENT\",\n",
      "          \"probability\": \"NEGLIGIBLE\",\n",
      "          \"probabilityScore\": 0.033691406,\n",
      "          \"severity\": \"HARM_SEVERITY_NEGLIGIBLE\",\n",
      "          \"severityScore\": 0.011657715\n",
      "        },\n",
      "        {\n",
      "          \"category\": \"HARM_CATEGORY_SEXUALLY_EXPLICIT\",\n",
      "          \"probability\": \"NEGLIGIBLE\",\n",
      "          \"probabilityScore\": 0.32226563,\n",
      "          \"severity\": \"HARM_SEVERITY_NEGLIGIBLE\",\n",
      "          \"severityScore\": 0.08642578\n",
      "        }\n",
      "      ],\n",
      "      \"avgLogprobs\": -0.18453174354755772\n",
      "    }\n",
      "  ],\n",
      "  \"usageMetadata\": {\n",
      "    \"promptTokenCount\": 21,\n",
      "    \"candidatesTokenCount\": 113,\n",
      "    \"totalTokenCount\": 134\n",
      "  },\n",
      "  \"modelVersion\": \"gemini-1.5-pro\"\n",
      "}\n"
     ]
    }
   ],
   "source": [
    "%%bash\n",
    "\n",
    "curl -X POST \\\n",
    "  -H \"Authorization: Bearer $(gcloud auth print-access-token)\" \\\n",
    "  -H \"Content-Type: application/json\" \\\n",
    "  https://${API_ENDPOINT}/v1/projects/${PROJECT_ID}/locations/${LOCATION}/publishers/google/models/${MODEL_ID}:generateContent \\\n",
    "  -d '{\n",
    "    \"contents\": [\n",
    "      {\n",
    "        \"role\": \"user\",\n",
    "        \"parts\": [\n",
    "          { \"text\": \"Hello\" }\n",
    "        ]\n",
    "      },\n",
    "      {\n",
    "        \"role\": \"model\",\n",
    "        \"parts\": [\n",
    "          { \"text\": \"Hello! I am glad you could both make it.\" }\n",
    "        ]\n",
    "      },\n",
    "      {\n",
    "        \"role\": \"user\",\n",
    "        \"parts\": [\n",
    "          { \"text\": \"So what is the first order of business?\" }\n",
    "        ]\n",
    "      }\n",
    "    ]\n",
    "  }'"
   ]
  },
  {
   "cell_type": "markdown",
   "metadata": {
    "id": "5f0f5fe3b331"
   },
   "source": [
    "### Function calling\n",
    "\n",
    "Function calling lets you create a description of a function in their code, then pass that description to a language model in a request. This sample is an example of passing in a description of a function that returns information about where a movie is playing. Several function declarations are included in the request, such as `find_movies` and `find_theaters`.\n",
    "\n",
    "Learn more about [function calling](https://cloud.google.com/vertex-ai/docs/generative-ai/multimodal/function-calling)."
   ]
  },
  {
   "cell_type": "code",
   "execution_count": 14,
   "metadata": {
    "id": "680b11b0ba4c",
    "tags": []
   },
   "outputs": [
    {
     "name": "stderr",
     "output_type": "stream",
     "text": [
      "  % Total    % Received % Xferd  Average Speed   Time    Time     Time  Current\n",
      "                                 Dload  Upload   Total   Spent    Left  Speed\n",
      "100  4147    0  1584  100  2563   1227   1986  0:00:01  0:00:01 --:--:--  3214\n"
     ]
    },
    {
     "name": "stdout",
     "output_type": "stream",
     "text": [
      "{\n",
      "  \"candidates\": [\n",
      "    {\n",
      "      \"content\": {\n",
      "        \"role\": \"model\",\n",
      "        \"parts\": [\n",
      "          {\n",
      "            \"functionCall\": {\n",
      "              \"name\": \"find_theaters\",\n",
      "              \"args\": {\n",
      "                \"location\": \"Mountain View, CA\",\n",
      "                \"movie\": \"Barbie\"\n",
      "              }\n",
      "            }\n",
      "          }\n",
      "        ]\n",
      "      },\n",
      "      \"finishReason\": \"STOP\",\n",
      "      \"safetyRatings\": [\n",
      "        {\n",
      "          \"category\": \"HARM_CATEGORY_HATE_SPEECH\",\n",
      "          \"probability\": \"NEGLIGIBLE\",\n",
      "          \"probabilityScore\": 0.15722656,\n",
      "          \"severity\": \"HARM_SEVERITY_NEGLIGIBLE\",\n",
      "          \"severityScore\": 0.122558594\n",
      "        },\n",
      "        {\n",
      "          \"category\": \"HARM_CATEGORY_DANGEROUS_CONTENT\",\n",
      "          \"probability\": \"NEGLIGIBLE\",\n",
      "          \"probabilityScore\": 0.13574219,\n",
      "          \"severity\": \"HARM_SEVERITY_NEGLIGIBLE\",\n",
      "          \"severityScore\": 0.17871094\n",
      "        },\n",
      "        {\n",
      "          \"category\": \"HARM_CATEGORY_HARASSMENT\",\n",
      "          \"probability\": \"NEGLIGIBLE\",\n",
      "          \"probabilityScore\": 0.17773438,\n",
      "          \"severity\": \"HARM_SEVERITY_NEGLIGIBLE\",\n",
      "          \"severityScore\": 0.11425781\n",
      "        },\n",
      "        {\n",
      "          \"category\": \"HARM_CATEGORY_SEXUALLY_EXPLICIT\",\n",
      "          \"probability\": \"NEGLIGIBLE\",\n",
      "          \"probabilityScore\": 0.20605469,\n",
      "          \"severity\": \"HARM_SEVERITY_NEGLIGIBLE\",\n",
      "          \"severityScore\": 0.16015625\n",
      "        }\n",
      "      ],\n",
      "      \"avgLogprobs\": -4.4105879417408937e-06\n",
      "    }\n",
      "  ],\n",
      "  \"usageMetadata\": {\n",
      "    \"promptTokenCount\": 191,\n",
      "    \"candidatesTokenCount\": 11,\n",
      "    \"totalTokenCount\": 202\n",
      "  },\n",
      "  \"modelVersion\": \"gemini-1.5-pro\"\n",
      "}\n"
     ]
    }
   ],
   "source": [
    "%%bash\n",
    "\n",
    "curl -X POST \\\n",
    "  -H \"Authorization: Bearer $(gcloud auth print-access-token)\" \\\n",
    "  -H \"Content-Type: application/json\" \\\n",
    "  https://${API_ENDPOINT}/v1beta1/projects/${PROJECT_ID}/locations/${LOCATION}/publishers/google/models/${MODEL_ID}:generateContent \\\n",
    "  -d '{\n",
    "  \"contents\": {\n",
    "    \"role\": \"user\",\n",
    "    \"parts\": {\n",
    "      \"text\": \"Which theaters in Mountain View show Barbie movie?\"\n",
    "    }\n",
    "  },\n",
    "  \"tools\": [\n",
    "    {\n",
    "      \"function_declarations\": [\n",
    "        {\n",
    "          \"name\": \"find_movies\",\n",
    "          \"description\": \"find movie titles currently playing in theaters based on any description, genre, title words, etc.\",\n",
    "          \"parameters\": {\n",
    "            \"type\": \"object\",\n",
    "            \"properties\": {\n",
    "              \"location\": {\n",
    "                \"type\": \"string\",\n",
    "                \"description\": \"The city and state, e.g. San Francisco, CA or a zip code e.g. 95616\"\n",
    "              },\n",
    "              \"description\": {\n",
    "                \"type\": \"string\",\n",
    "                \"description\": \"Any kind of description including category or genre, title words, attributes, etc.\"\n",
    "              }\n",
    "            },\n",
    "            \"required\": [\n",
    "              \"description\"\n",
    "            ]\n",
    "          }\n",
    "        },\n",
    "        {\n",
    "          \"name\": \"find_theaters\",\n",
    "          \"description\": \"find theaters based on location and optionally movie title which are is currently playing in theaters\",\n",
    "          \"parameters\": {\n",
    "            \"type\": \"object\",\n",
    "            \"properties\": {\n",
    "              \"location\": {\n",
    "                \"type\": \"string\",\n",
    "                \"description\": \"The city and state, e.g. San Francisco, CA or a zip code e.g. 95616\"\n",
    "              },\n",
    "              \"movie\": {\n",
    "                \"type\": \"string\",\n",
    "                \"description\": \"Any movie title\"\n",
    "              }\n",
    "            },\n",
    "            \"required\": [\n",
    "              \"location\"\n",
    "            ]\n",
    "          }\n",
    "        },\n",
    "        {\n",
    "          \"name\": \"get_showtimes\",\n",
    "          \"description\": \"Find the start times for movies playing in a specific theater\",\n",
    "          \"parameters\": {\n",
    "            \"type\": \"object\",\n",
    "            \"properties\": {\n",
    "              \"location\": {\n",
    "                \"type\": \"string\",\n",
    "                \"description\": \"The city and state, e.g. San Francisco, CA or a zip code e.g. 95616\"\n",
    "              },\n",
    "              \"movie\": {\n",
    "                \"type\": \"string\",\n",
    "                \"description\": \"Any movie title\"\n",
    "              },\n",
    "              \"theater\": {\n",
    "                \"type\": \"string\",\n",
    "                \"description\": \"Name of theater\"\n",
    "              },\n",
    "              \"date\": {\n",
    "                \"type\": \"string\",\n",
    "                \"description\": \"Date for requested showtime\"\n",
    "              }\n",
    "            },\n",
    "            \"required\": [\n",
    "              \"location\",\n",
    "              \"movie\",\n",
    "              \"theater\",\n",
    "              \"date\"\n",
    "            ]\n",
    "          }\n",
    "        }\n",
    "      ]\n",
    "    }\n",
    "  ]\n",
    "}'"
   ]
  },
  {
   "cell_type": "markdown",
   "metadata": {
    "id": "R3g5n23lDtsN"
   },
   "source": [
    "## Multimodal input\n",
    "\n",
    "The Gemini 1.5 Pro  (`gemini-1.5-pro`) is a multimodal model that supports adding image and video in text or chat prompts for a text response.\n"
   ]
  },
  {
   "cell_type": "markdown",
   "metadata": {
    "id": "uTfL2DDch4Lp"
   },
   "source": [
    "### Download an image from Google Cloud Storage"
   ]
  },
  {
   "cell_type": "code",
   "execution_count": 9,
   "metadata": {
    "id": "KmtWSNLtJ7oD",
    "tags": []
   },
   "outputs": [
    {
     "name": "stdout",
     "output_type": "stream",
     "text": [
      "Copying gs://cloud-samples-data/generative-ai/image/320px-Felis_catus-cat_on_snow.jpg...\n",
      "/ [1 files][ 17.4 KiB/ 17.4 KiB]                                                \n",
      "Operation completed over 1 objects/17.4 KiB.                                     \n"
     ]
    }
   ],
   "source": [
    "! gsutil cp \"gs://cloud-samples-data/generative-ai/image/320px-Felis_catus-cat_on_snow.jpg\" ./image.jpg"
   ]
  },
  {
   "cell_type": "markdown",
   "metadata": {
    "id": "BlyyaPgmhpyv"
   },
   "source": [
    "### Generate text from a local image\n",
    "\n",
    "Specify the [base64](https://en.wikipedia.org/wiki/Base64) encoding of the image or video to include inline in the prompt and the `mime_type` field. The supported [MIME types](https://en.wikipedia.org/wiki/Media_type) for images include `image/png` and `image/jpeg`."
   ]
  },
  {
   "cell_type": "code",
   "execution_count": 10,
   "metadata": {
    "id": "-uqZ-RWdtdit",
    "tags": []
   },
   "outputs": [
    {
     "name": "stderr",
     "output_type": "stream",
     "text": [
      "  % Total    % Received % Xferd  Average Speed   Time    Time     Time  Current\n",
      "                                 Dload  Upload   Total   Spent    Left  Speed\n",
      "100 25511    0  1417  100 24094   1339  22773  0:00:01  0:00:01 --:--:-- 24112\n"
     ]
    },
    {
     "name": "stdout",
     "output_type": "stream",
     "text": [
      "{\n",
      "  \"candidates\": [\n",
      "    {\n",
      "      \"content\": {\n",
      "        \"role\": \"model\",\n",
      "        \"parts\": [\n",
      "          {\n",
      "            \"text\": \"Yes, that is a cat. \\n\"\n",
      "          }\n",
      "        ]\n",
      "      },\n",
      "      \"finishReason\": \"STOP\",\n",
      "      \"safetyRatings\": [\n",
      "        {\n",
      "          \"category\": \"HARM_CATEGORY_HATE_SPEECH\",\n",
      "          \"probability\": \"NEGLIGIBLE\",\n",
      "          \"probabilityScore\": 0.07080078,\n",
      "          \"severity\": \"HARM_SEVERITY_NEGLIGIBLE\",\n",
      "          \"severityScore\": 0.11425781\n",
      "        },\n",
      "        {\n",
      "          \"category\": \"HARM_CATEGORY_DANGEROUS_CONTENT\",\n",
      "          \"probability\": \"NEGLIGIBLE\",\n",
      "          \"probabilityScore\": 0.14648438,\n",
      "          \"severity\": \"HARM_SEVERITY_NEGLIGIBLE\",\n",
      "          \"severityScore\": 0.12890625\n",
      "        },\n",
      "        {\n",
      "          \"category\": \"HARM_CATEGORY_HARASSMENT\",\n",
      "          \"probability\": \"NEGLIGIBLE\",\n",
      "          \"probabilityScore\": 0.1484375,\n",
      "          \"severity\": \"HARM_SEVERITY_NEGLIGIBLE\",\n",
      "          \"severityScore\": 0.15527344\n",
      "        },\n",
      "        {\n",
      "          \"category\": \"HARM_CATEGORY_SEXUALLY_EXPLICIT\",\n",
      "          \"probability\": \"NEGLIGIBLE\",\n",
      "          \"probabilityScore\": 0.13476563,\n",
      "          \"severity\": \"HARM_SEVERITY_NEGLIGIBLE\",\n",
      "          \"severityScore\": 0.09814453\n",
      "        }\n",
      "      ],\n",
      "      \"avgLogprobs\": -0.19109597471025255\n",
      "    }\n",
      "  ],\n",
      "  \"usageMetadata\": {\n",
      "    \"promptTokenCount\": 263,\n",
      "    \"candidatesTokenCount\": 9,\n",
      "    \"totalTokenCount\": 272\n",
      "  },\n",
      "  \"modelVersion\": \"gemini-1.5-pro\"\n",
      "}\n"
     ]
    }
   ],
   "source": [
    "%%bash\n",
    "\n",
    "# Encode image data in base64\n",
    "# NOTE: This command only works on Linux.\n",
    "data=$(base64 -w 0 image.jpg)\n",
    "\n",
    "curl -X POST \\\n",
    "  -H \"Authorization: Bearer $(gcloud auth print-access-token)\" \\\n",
    "  -H \"Content-Type: application/json\" \\\n",
    "  https://${API_ENDPOINT}/v1/projects/${PROJECT_ID}/locations/${LOCATION}/publishers/google/models/${MODEL_ID}:generateContent \\\n",
    "  -d \"{\n",
    "      'contents': {\n",
    "        'role': 'USER',\n",
    "        'parts': [\n",
    "          {\n",
    "            'text': 'Is it a cat?'\n",
    "          },\n",
    "          {\n",
    "            'inline_data': {\n",
    "              'data': '${data}',\n",
    "              'mime_type':'image/jpeg'\n",
    "            }\n",
    "          }\n",
    "        ]\n",
    "       }\n",
    "     }\""
   ]
  },
  {
   "cell_type": "markdown",
   "metadata": {
    "id": "fKr-BklmhjgP"
   },
   "source": [
    "### Generate text from an image on Google Cloud Storage\n",
    "\n",
    "Specify the Cloud Storage URI of the image to include in the prompt. The bucket that stores the file must be in the same Google Cloud project that's sending the request. You must also specify the `mime_type` field. The supported image MIME types include `image/png` and `image/jpeg`."
   ]
  },
  {
   "cell_type": "code",
   "execution_count": 11,
   "metadata": {
    "id": "43pQE3_z3OjG",
    "tags": []
   },
   "outputs": [
    {
     "name": "stderr",
     "output_type": "stream",
     "text": [
      "  % Total    % Received % Xferd  Average Speed   Time    Time     Time  Current\n",
      "                                 Dload  Upload   Total   Spent    Left  Speed\n",
      "100   964    0   315  100   649   3118   6425 --:--:-- --:--:-- --:--:--  9640\n"
     ]
    },
    {
     "name": "stdout",
     "output_type": "stream",
     "text": [
      "{\n",
      "  \"error\": {\n",
      "    \"code\": 400,\n",
      "    \"message\": \"Service agents are being provisioned (https://cloud.google.com/vertex-ai/docs/general/access-control#service-agents). Service agents are needed to read the Cloud Storage file provided. So please try again in a few minutes.\",\n",
      "    \"status\": \"FAILED_PRECONDITION\"\n",
      "  }\n",
      "}\n"
     ]
    }
   ],
   "source": [
    "%%bash\n",
    "\n",
    "MODEL_ID=\"gemini-1.5-pro\"\n",
    "\n",
    "curl -X POST \\\n",
    "  -H \"Authorization: Bearer $(gcloud auth print-access-token)\" \\\n",
    "  -H \"Content-Type: application/json\" \\\n",
    "  https://${API_ENDPOINT}/v1/projects/${PROJECT_ID}/locations/${LOCATION}/publishers/google/models/${MODEL_ID}:generateContent \\\n",
    "  -d '{\n",
    "    \"contents\": {\n",
    "      \"role\": \"USER\",\n",
    "      \"parts\": [\n",
    "        {\n",
    "          \"text\": \"Describe this image\"\n",
    "        },\n",
    "        {\n",
    "          \"file_data\": {\n",
    "            \"mime_type\": \"image/png\",\n",
    "            \"file_uri\": \"gs://cloud-samples-data/generative-ai/image/320px-Felis_catus-cat_on_snow.jpg\"\n",
    "          }\n",
    "        }\n",
    "      ]\n",
    "    },\n",
    "    \"generation_config\": {\n",
    "      \"temperature\": 0.2,\n",
    "      \"top_p\": 0.1,\n",
    "      \"top_k\": 16,\n",
    "      \"max_output_tokens\": 2048,\n",
    "      \"candidate_count\": 1,\n",
    "      \"stop_sequences\": []\n",
    "    },\n",
    "    \"safety_settings\": {\n",
    "      \"category\": \"HARM_CATEGORY_SEXUALLY_EXPLICIT\",\n",
    "      \"threshold\": \"BLOCK_LOW_AND_ABOVE\"\n",
    "    }\n",
    "  }'"
   ]
  },
  {
   "cell_type": "markdown",
   "metadata": {
    "id": "TVF4vHuBOD8N"
   },
   "source": [
    "### Generate text from a video file\n",
    "\n",
    "Specify the Cloud Storage URI of the video to include in the prompt. The bucket that stores the file must be in the same Google Cloud project that's sending the request. You must also specify the `mime_type` field. The supported MIME types for video include `video/mp4`.\n"
   ]
  },
  {
   "cell_type": "code",
   "execution_count": 13,
   "metadata": {
    "id": "F8kS5p0l_uHE",
    "tags": []
   },
   "outputs": [
    {
     "name": "stderr",
     "output_type": "stream",
     "text": [
      "  % Total    % Received % Xferd  Average Speed   Time    Time     Time  Current\n",
      "                                 Dload  Upload   Total   Spent    Left  Speed\n",
      "100  2149    0  1635  100   514    333    104  0:00:04  0:00:04 --:--:--   442\n"
     ]
    },
    {
     "name": "stdout",
     "output_type": "stream",
     "text": [
      "{\n",
      "  \"candidates\": [\n",
      "    {\n",
      "      \"content\": {\n",
      "        \"role\": \"model\",\n",
      "        \"parts\": [\n",
      "          {\n",
      "            \"text\": \"{\\n \\\"profession\\\": \\\"Photographer\\\",\\n \\\"phone_features\\\": \\\"The new Pixel phone has a feature called \\\\\\\"Video Boost.\\\\\\\" In low light, it activates \\\\\\\"Night Sight\\\\\\\" to make the quality even better.\\\",\\n \\\"city\\\": \\\"Tokyo\\\"\\n}\"\n",
      "          }\n",
      "        ]\n",
      "      },\n",
      "      \"finishReason\": \"STOP\",\n",
      "      \"safetyRatings\": [\n",
      "        {\n",
      "          \"category\": \"HARM_CATEGORY_HATE_SPEECH\",\n",
      "          \"probability\": \"NEGLIGIBLE\",\n",
      "          \"probabilityScore\": 0.09423828,\n",
      "          \"severity\": \"HARM_SEVERITY_NEGLIGIBLE\",\n",
      "          \"severityScore\": 0.064453125\n",
      "        },\n",
      "        {\n",
      "          \"category\": \"HARM_CATEGORY_DANGEROUS_CONTENT\",\n",
      "          \"probability\": \"NEGLIGIBLE\",\n",
      "          \"probabilityScore\": 0.07373047,\n",
      "          \"severity\": \"HARM_SEVERITY_NEGLIGIBLE\",\n",
      "          \"severityScore\": 0.19726563\n",
      "        },\n",
      "        {\n",
      "          \"category\": \"HARM_CATEGORY_HARASSMENT\",\n",
      "          \"probability\": \"NEGLIGIBLE\",\n",
      "          \"probabilityScore\": 0.111328125,\n",
      "          \"severity\": \"HARM_SEVERITY_NEGLIGIBLE\",\n",
      "          \"severityScore\": 0.091308594\n",
      "        },\n",
      "        {\n",
      "          \"category\": \"HARM_CATEGORY_SEXUALLY_EXPLICIT\",\n",
      "          \"probability\": \"NEGLIGIBLE\",\n",
      "          \"probabilityScore\": 0.12158203,\n",
      "          \"severity\": \"HARM_SEVERITY_NEGLIGIBLE\",\n",
      "          \"severityScore\": 0.09033203\n",
      "        }\n",
      "      ],\n",
      "      \"avgLogprobs\": -0.20926979352843086\n",
      "    }\n",
      "  ],\n",
      "  \"usageMetadata\": {\n",
      "    \"promptTokenCount\": 16855,\n",
      "    \"candidatesTokenCount\": 53,\n",
      "    \"totalTokenCount\": 16908\n",
      "  },\n",
      "  \"modelVersion\": \"gemini-1.5-pro\"\n",
      "}\n"
     ]
    }
   ],
   "source": [
    "%%bash\n",
    "\n",
    "curl -X POST \\\n",
    "  -H \"Authorization: Bearer $(gcloud auth print-access-token)\" \\\n",
    "  -H \"Content-Type: application/json\" \\\n",
    "  https://${API_ENDPOINT}/v1/projects/${PROJECT_ID}/locations/${LOCATION}/publishers/google/models/${MODEL_ID}:generateContent \\\n",
    "  -d \\\n",
    "'{\n",
    "    \"contents\": {\n",
    "      \"role\": \"USER\",\n",
    "      \"parts\": [\n",
    "        {\n",
    "          \"text\": \"Answer the following questions using the video only. What is the profession of the main person? What are the main features of the phone highlighted?Which city was this recorded in?Provide the answer JSON.\"\n",
    "        },\n",
    "        {\n",
    "          \"file_data\": {\n",
    "            \"mime_type\": \"video/mp4\",\n",
    "            \"file_uri\": \"gs://github-repo/img/gemini/multimodality_usecases_overview/pixel8.mp4\"\n",
    "          }\n",
    "        }\n",
    "      ]\n",
    "    }\n",
    "  }'"
   ]
  },
  {
   "cell_type": "code",
   "execution_count": null,
   "metadata": {},
   "outputs": [],
   "source": []
  }
 ],
 "metadata": {
  "colab": {
   "name": "intro_gemini_curl.ipynb",
   "toc_visible": true
  },
  "environment": {
   "kernel": "python3",
   "name": "tf2-cpu.2-17.m125",
   "type": "gcloud",
   "uri": "us-docker.pkg.dev/deeplearning-platform-release/gcr.io/tf2-cpu.2-17:m125"
  },
  "kernelspec": {
   "display_name": "Python 3 (Local)",
   "language": "python",
   "name": "python3"
  },
  "language_info": {
   "codemirror_mode": {
    "name": "ipython",
    "version": 3
   },
   "file_extension": ".py",
   "mimetype": "text/x-python",
   "name": "python",
   "nbconvert_exporter": "python",
   "pygments_lexer": "ipython3",
   "version": "3.10.15"
  }
 },
 "nbformat": 4,
 "nbformat_minor": 4
}
